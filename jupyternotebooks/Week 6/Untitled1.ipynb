{
 "cells": [
  {
   "cell_type": "code",
   "execution_count": 24,
   "id": "b153719f",
   "metadata": {},
   "outputs": [],
   "source": [
    "# import the ingredients\n",
    "from scipy.stats import ttest_1samp\n",
    "import pandas as pd"
   ]
  },
  {
   "cell_type": "code",
   "execution_count": 21,
   "id": "325f61c0",
   "metadata": {},
   "outputs": [],
   "source": [
    "#shorthand version\n",
    "\n",
    "data=[87,65,67,72,73,97,76]\n",
    "test=ttest_1samp(a=data,popmean=85)"
   ]
  },
  {
   "cell_type": "code",
   "execution_count": 22,
   "id": "3a708cc8",
   "metadata": {},
   "outputs": [
    {
     "data": {
      "text/plain": [
       "Ttest_1sampResult(statistic=-1.916025351241149, pvalue=0.10383679699348965)"
      ]
     },
     "execution_count": 22,
     "metadata": {},
     "output_type": "execute_result"
    }
   ],
   "source": [
    "test"
   ]
  },
  {
   "cell_type": "code",
   "execution_count": null,
   "id": "bb8f1b71",
   "metadata": {},
   "outputs": [],
   "source": [
    "# test > 1.895\n",
    "-1.895\n",
    "if test statistic > threshold\n",
    "(derived from 0.05)"
   ]
  },
  {
   "cell_type": "code",
   "execution_count": 10,
   "id": "a4db04e3",
   "metadata": {},
   "outputs": [],
   "source": [
    "from scipy.stats import norm # Z distribution"
   ]
  },
  {
   "cell_type": "code",
   "execution_count": 11,
   "id": "75fbf9a4",
   "metadata": {},
   "outputs": [],
   "source": [
    "import math"
   ]
  },
  {
   "cell_type": "markdown",
   "id": "c10f0dd2",
   "metadata": {},
   "source": [
    "### Summarise statistical test\n",
    "\n",
    "- comparing to the population - 85 valid assume - Z distribution\n",
    "- pop mean is 85\n",
    "- sample mean is 80.94\n",
    "- collected 25 weights in sample (25 boys)\n",
    "- st.dev of sample = 11.6\n",
    "\n",
    "- one tailed test or two-tailed test?\n",
    "- one tailed t test - is the sample mean significantly lower than 85\n",
    "\n",
    "+ Ho: no difference between these boys and the population\n",
    "* Ha: boys are underweight - significant evidence"
   ]
  },
  {
   "cell_type": "code",
   "execution_count": 12,
   "id": "e389be07",
   "metadata": {},
   "outputs": [],
   "source": [
    "# define all the needed variables\n",
    "\n",
    "sample_mean = 80.94\n",
    "pop_mean = 85\n",
    "sampl_std = 11.6\n",
    "n = 25"
   ]
  },
  {
   "cell_type": "code",
   "execution_count": 13,
   "id": "21691098",
   "metadata": {},
   "outputs": [
    {
     "data": {
      "text/plain": [
       "-1.7146428199482255"
      ]
     },
     "execution_count": 13,
     "metadata": {},
     "output_type": "execute_result"
    }
   ],
   "source": [
    "# calculate the t statistic\n",
    "# (sample_mean - pop_mean)/ (sampl_std/sqrt(n-1))\n",
    "\n",
    "statistic = (sample_mean - pop_mean) / (sampl_std/(math.sqrt(n-1)))\n",
    "statistic # (t value)"
   ]
  },
  {
   "cell_type": "code",
   "execution_count": 14,
   "id": "df74307e",
   "metadata": {},
   "outputs": [
    {
     "data": {
      "text/plain": [
       "-1.6448536269514729"
      ]
     },
     "execution_count": 14,
     "metadata": {},
     "output_type": "execute_result"
    }
   ],
   "source": [
    "# 0.05 conventional threshold - need to find critical value\n",
    "\n",
    "critical_value = norm.ppf(0.05)\n",
    "critical_value"
   ]
  },
  {
   "cell_type": "code",
   "execution_count": 15,
   "id": "77d926b0",
   "metadata": {},
   "outputs": [
    {
     "data": {
      "text/plain": [
       "0.04320536648684992"
      ]
     },
     "execution_count": 15,
     "metadata": {},
     "output_type": "execute_result"
    }
   ],
   "source": [
    "# on the one tailed t test, we have evidence of a statistic significance different in the means\n",
    "# this sugests we should reject the Null hypotethesis\n",
    "\n",
    "# p value - is it less than 0.05?\n",
    "\n",
    "p_value = norm.cdf(statistic)\n",
    "p_value\n",
    "\n",
    "# cumulative distribution function cdf - on the t test, distribution, return the cumulative norm"
   ]
  },
  {
   "cell_type": "markdown",
   "id": "9f5d96ac",
   "metadata": {},
   "source": [
    "SUMMARY\n",
    "from our two tests - t test and p value\n",
    "\n",
    "accept our Ha - enough evidence to claim the boys are underweight"
   ]
  },
  {
   "cell_type": "code",
   "execution_count": 16,
   "id": "462e3d2f",
   "metadata": {},
   "outputs": [
    {
     "data": {
      "text/plain": [
       "1.773768434429199"
      ]
     },
     "execution_count": 16,
     "metadata": {},
     "output_type": "execute_result"
    }
   ],
   "source": [
    "sample_mean = 89.2\n",
    "pop_mean = 85\n",
    "pop_std = 11.6\n",
    "n=25\n",
    "\n",
    "statistic = (sample_mean - pop_mean) / (sampl_std/(math.sqrt(n-1)))\n",
    "statistic # (t value)"
   ]
  },
  {
   "cell_type": "code",
   "execution_count": 20,
   "id": "4bf7c002",
   "metadata": {},
   "outputs": [
    {
     "data": {
      "text/plain": [
       "-1.9599639845400545"
      ]
     },
     "execution_count": 20,
     "metadata": {},
     "output_type": "execute_result"
    }
   ],
   "source": [
    "# two tailed test\n",
    "\n",
    "critical_value = norm.ppf(0.025)\n",
    "critical_value"
   ]
  },
  {
   "cell_type": "markdown",
   "id": "212bf024",
   "metadata": {},
   "source": [
    "### ANOVA test"
   ]
  },
  {
   "cell_type": "code",
   "execution_count": 25,
   "id": "cedb17db",
   "metadata": {},
   "outputs": [],
   "source": [
    "data = pd.read_excel('anova_class_example_data.xlsx', sheet_name = 'data_collected')"
   ]
  },
  {
   "cell_type": "code",
   "execution_count": 27,
   "id": "7e214772",
   "metadata": {},
   "outputs": [
    {
     "data": {
      "text/html": [
       "<div>\n",
       "<style scoped>\n",
       "    .dataframe tbody tr th:only-of-type {\n",
       "        vertical-align: middle;\n",
       "    }\n",
       "\n",
       "    .dataframe tbody tr th {\n",
       "        vertical-align: top;\n",
       "    }\n",
       "\n",
       "    .dataframe thead th {\n",
       "        text-align: right;\n",
       "    }\n",
       "</style>\n",
       "<table border=\"1\" class=\"dataframe\">\n",
       "  <thead>\n",
       "    <tr style=\"text-align: right;\">\n",
       "      <th></th>\n",
       "      <th>Display_design</th>\n",
       "      <th>Percent_increase_in_sales</th>\n",
       "    </tr>\n",
       "  </thead>\n",
       "  <tbody>\n",
       "    <tr>\n",
       "      <th>0</th>\n",
       "      <td>1</td>\n",
       "      <td>575</td>\n",
       "    </tr>\n",
       "    <tr>\n",
       "      <th>1</th>\n",
       "      <td>2</td>\n",
       "      <td>565</td>\n",
       "    </tr>\n",
       "    <tr>\n",
       "      <th>2</th>\n",
       "      <td>3</td>\n",
       "      <td>600</td>\n",
       "    </tr>\n",
       "    <tr>\n",
       "      <th>3</th>\n",
       "      <td>4</td>\n",
       "      <td>725</td>\n",
       "    </tr>\n",
       "    <tr>\n",
       "      <th>4</th>\n",
       "      <td>1</td>\n",
       "      <td>542</td>\n",
       "    </tr>\n",
       "    <tr>\n",
       "      <th>5</th>\n",
       "      <td>2</td>\n",
       "      <td>593</td>\n",
       "    </tr>\n",
       "    <tr>\n",
       "      <th>6</th>\n",
       "      <td>3</td>\n",
       "      <td>651</td>\n",
       "    </tr>\n",
       "    <tr>\n",
       "      <th>7</th>\n",
       "      <td>4</td>\n",
       "      <td>700</td>\n",
       "    </tr>\n",
       "    <tr>\n",
       "      <th>8</th>\n",
       "      <td>1</td>\n",
       "      <td>530</td>\n",
       "    </tr>\n",
       "    <tr>\n",
       "      <th>9</th>\n",
       "      <td>2</td>\n",
       "      <td>590</td>\n",
       "    </tr>\n",
       "    <tr>\n",
       "      <th>10</th>\n",
       "      <td>3</td>\n",
       "      <td>610</td>\n",
       "    </tr>\n",
       "    <tr>\n",
       "      <th>11</th>\n",
       "      <td>4</td>\n",
       "      <td>715</td>\n",
       "    </tr>\n",
       "    <tr>\n",
       "      <th>12</th>\n",
       "      <td>1</td>\n",
       "      <td>539</td>\n",
       "    </tr>\n",
       "    <tr>\n",
       "      <th>13</th>\n",
       "      <td>2</td>\n",
       "      <td>579</td>\n",
       "    </tr>\n",
       "    <tr>\n",
       "      <th>14</th>\n",
       "      <td>3</td>\n",
       "      <td>637</td>\n",
       "    </tr>\n",
       "    <tr>\n",
       "      <th>15</th>\n",
       "      <td>4</td>\n",
       "      <td>685</td>\n",
       "    </tr>\n",
       "    <tr>\n",
       "      <th>16</th>\n",
       "      <td>1</td>\n",
       "      <td>570</td>\n",
       "    </tr>\n",
       "    <tr>\n",
       "      <th>17</th>\n",
       "      <td>2</td>\n",
       "      <td>610</td>\n",
       "    </tr>\n",
       "    <tr>\n",
       "      <th>18</th>\n",
       "      <td>3</td>\n",
       "      <td>629</td>\n",
       "    </tr>\n",
       "    <tr>\n",
       "      <th>19</th>\n",
       "      <td>4</td>\n",
       "      <td>710</td>\n",
       "    </tr>\n",
       "  </tbody>\n",
       "</table>\n",
       "</div>"
      ],
      "text/plain": [
       "    Display_design  Percent_increase_in_sales\n",
       "0                1                        575\n",
       "1                2                        565\n",
       "2                3                        600\n",
       "3                4                        725\n",
       "4                1                        542\n",
       "5                2                        593\n",
       "6                3                        651\n",
       "7                4                        700\n",
       "8                1                        530\n",
       "9                2                        590\n",
       "10               3                        610\n",
       "11               4                        715\n",
       "12               1                        539\n",
       "13               2                        579\n",
       "14               3                        637\n",
       "15               4                        685\n",
       "16               1                        570\n",
       "17               2                        610\n",
       "18               3                        629\n",
       "19               4                        710"
      ]
     },
     "execution_count": 27,
     "metadata": {},
     "output_type": "execute_result"
    }
   ],
   "source": [
    "data"
   ]
  },
  {
   "cell_type": "code",
   "execution_count": 29,
   "id": "446fdd43",
   "metadata": {},
   "outputs": [],
   "source": [
    "import statsmodels.api as sm\n",
    "from statsmodels.formula.api import ols"
   ]
  },
  {
   "cell_type": "code",
   "execution_count": 30,
   "id": "37f3ea58",
   "metadata": {},
   "outputs": [],
   "source": [
    "model=ols('Percent_increase_in_sales ~ C(Display_design)', data=data).fit()"
   ]
  },
  {
   "cell_type": "code",
   "execution_count": 31,
   "id": "cd1ffce7",
   "metadata": {},
   "outputs": [],
   "source": [
    "results_table=sm.stats.anova_lm(model)"
   ]
  },
  {
   "cell_type": "code",
   "execution_count": 33,
   "id": "7d30f2c0",
   "metadata": {},
   "outputs": [
    {
     "name": "stdout",
     "output_type": "stream",
     "text": [
      "                     df    sum_sq       mean_sq          F        PR(>F)\n",
      "C(Display_design)   3.0  66870.55  22290.183333  66.797073  2.882866e-09\n",
      "Residual           16.0   5339.20    333.700000        NaN           NaN\n"
     ]
    }
   ],
   "source": [
    "print(results_table)"
   ]
  },
  {
   "cell_type": "code",
   "execution_count": 34,
   "id": "1d1e5ec9",
   "metadata": {},
   "outputs": [],
   "source": [
    "# check F value against critical value from F table using 3 and 16 from df"
   ]
  },
  {
   "cell_type": "markdown",
   "id": "838f4195",
   "metadata": {},
   "source": [
    "SUMMARY\n",
    "\n",
    "yes, there is a statistically significance difference between sales between sales / displays.\n",
    "\n",
    "doesn't tell us which display is better - but it informs there is something worth studying"
   ]
  },
  {
   "cell_type": "code",
   "execution_count": null,
   "id": "8ad5030d",
   "metadata": {},
   "outputs": [],
   "source": [
    "d"
   ]
  }
 ],
 "metadata": {
  "kernelspec": {
   "display_name": "Python 3",
   "language": "python",
   "name": "python3"
  },
  "language_info": {
   "codemirror_mode": {
    "name": "ipython",
    "version": 3
   },
   "file_extension": ".py",
   "mimetype": "text/x-python",
   "name": "python",
   "nbconvert_exporter": "python",
   "pygments_lexer": "ipython3",
   "version": "3.9.5"
  }
 },
 "nbformat": 4,
 "nbformat_minor": 5
}
