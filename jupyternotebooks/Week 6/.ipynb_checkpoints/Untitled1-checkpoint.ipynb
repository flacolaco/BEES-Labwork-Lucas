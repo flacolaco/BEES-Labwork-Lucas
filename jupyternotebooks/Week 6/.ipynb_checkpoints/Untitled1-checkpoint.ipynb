{
 "cells": [
  {
   "cell_type": "code",
   "execution_count": 9,
   "id": "b3229818",
   "metadata": {},
   "outputs": [],
   "source": [
    "# import the ingredients\n",
    "from scipy.stats import ttest_1samp"
   ]
  },
  {
   "cell_type": "code",
   "execution_count": 21,
   "id": "09f9d85e",
   "metadata": {},
   "outputs": [],
   "source": [
    "#shorthand version\n",
    "\n",
    "data=[87,65,67,72,73,97,76]\n",
    "test=ttest_1samp(a=data,popmean=85)"
   ]
  },
  {
   "cell_type": "code",
   "execution_count": null,
   "id": "33d903f0",
   "metadata": {},
   "outputs": [],
   "source": []
  },
  {
   "cell_type": "code",
   "execution_count": 10,
   "id": "a14f6c19",
   "metadata": {},
   "outputs": [],
   "source": [
    "from scipy.stats import norm # Z distribution"
   ]
  },
  {
   "cell_type": "code",
   "execution_count": 11,
   "id": "bbd38801",
   "metadata": {},
   "outputs": [],
   "source": [
    "import math"
   ]
  },
  {
   "cell_type": "markdown",
   "id": "993a5f96",
   "metadata": {},
   "source": [
    "### Summarise statistical test\n",
    "\n",
    "- comparing to the population - 85 valid assume - Z distribution\n",
    "- pop mean is 85\n",
    "- sample mean is 80.94\n",
    "- collected 25 weights in sample (25 boys)\n",
    "- st.dev of sample = 11.6\n",
    "\n",
    "- one tailed test or two-tailed test?\n",
    "- one tailed t test - is the sample mean significantly lower than 85\n",
    "\n",
    "+ Ho: no difference between these boys and the population\n",
    "* Ha: boys are underweight - significant evidence"
   ]
  },
  {
   "cell_type": "code",
   "execution_count": 12,
   "id": "00b5ced7",
   "metadata": {},
   "outputs": [],
   "source": [
    "# define all the needed variables\n",
    "\n",
    "sample_mean = 80.94\n",
    "pop_mean = 85\n",
    "sampl_std = 11.6\n",
    "n = 25"
   ]
  },
  {
   "cell_type": "code",
   "execution_count": 13,
   "id": "24acd002",
   "metadata": {},
   "outputs": [
    {
     "data": {
      "text/plain": [
       "-1.7146428199482255"
      ]
     },
     "execution_count": 13,
     "metadata": {},
     "output_type": "execute_result"
    }
   ],
   "source": [
    "# calculate the t statistic\n",
    "# (sample_mean - pop_mean)/ (sampl_std/sqrt(n-1))\n",
    "\n",
    "statistic = (sample_mean - pop_mean) / (sampl_std/(math.sqrt(n-1)))\n",
    "statistic # (t value)"
   ]
  },
  {
   "cell_type": "code",
   "execution_count": 14,
   "id": "a9c32a8e",
   "metadata": {},
   "outputs": [
    {
     "data": {
      "text/plain": [
       "-1.6448536269514729"
      ]
     },
     "execution_count": 14,
     "metadata": {},
     "output_type": "execute_result"
    }
   ],
   "source": [
    "# 0.05 conventional threshold - need to find critical value\n",
    "\n",
    "critical_value = norm.ppf(0.05)\n",
    "critical_value"
   ]
  },
  {
   "cell_type": "code",
   "execution_count": 15,
   "id": "6b564ed4",
   "metadata": {},
   "outputs": [
    {
     "data": {
      "text/plain": [
       "0.04320536648684992"
      ]
     },
     "execution_count": 15,
     "metadata": {},
     "output_type": "execute_result"
    }
   ],
   "source": [
    "# on the one tailed t test, we have evidence of a statistic significance different in the means\n",
    "# this sugests we should reject the Null hypotethesis\n",
    "\n",
    "# p value - is it less than 0.05?\n",
    "\n",
    "p_value = norm.cdf(statistic)\n",
    "p_value\n",
    "\n",
    "# cumulative distribution function cdf - on the t test, distribution, return the cumulative norm"
   ]
  },
  {
   "cell_type": "markdown",
   "id": "154d1056",
   "metadata": {},
   "source": [
    "SUMMARY\n",
    "from our two tests - t test and p value\n",
    "\n",
    "accept our Ha - enough evidence to claim the boys are underweight"
   ]
  },
  {
   "cell_type": "code",
   "execution_count": 16,
   "id": "a11f9e1d",
   "metadata": {},
   "outputs": [
    {
     "data": {
      "text/plain": [
       "1.773768434429199"
      ]
     },
     "execution_count": 16,
     "metadata": {},
     "output_type": "execute_result"
    }
   ],
   "source": [
    "sample_mean = 89.2\n",
    "pop_mean = 85\n",
    "pop_std = 11.6\n",
    "n=25\n",
    "\n",
    "statistic = (sample_mean - pop_mean) / (sampl_std/(math.sqrt(n-1)))\n",
    "statistic # (t value)"
   ]
  },
  {
   "cell_type": "code",
   "execution_count": 20,
   "id": "5fdd654c",
   "metadata": {},
   "outputs": [
    {
     "data": {
      "text/plain": [
       "-1.9599639845400545"
      ]
     },
     "execution_count": 20,
     "metadata": {},
     "output_type": "execute_result"
    }
   ],
   "source": [
    "# two tailed test\n",
    "\n",
    "critical_value = norm.ppf(0.025)\n",
    "critical_value"
   ]
  },
  {
   "cell_type": "code",
   "execution_count": null,
   "id": "9cb1e080",
   "metadata": {},
   "outputs": [],
   "source": []
  }
 ],
 "metadata": {
  "kernelspec": {
   "display_name": "Python 3",
   "language": "python",
   "name": "python3"
  },
  "language_info": {
   "codemirror_mode": {
    "name": "ipython",
    "version": 3
   },
   "file_extension": ".py",
   "mimetype": "text/x-python",
   "name": "python",
   "nbconvert_exporter": "python",
   "pygments_lexer": "ipython3",
   "version": "3.9.5"
  }
 },
 "nbformat": 4,
 "nbformat_minor": 5
}
