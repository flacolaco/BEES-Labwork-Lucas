{
 "cells": [
  {
   "cell_type": "markdown",
   "id": "fbe1b0d2",
   "metadata": {},
   "source": [
    "# This is a title"
   ]
  },
  {
   "cell_type": "markdown",
   "id": "1237cc84",
   "metadata": {},
   "source": [
    "## This is a subtitle"
   ]
  },
  {
   "cell_type": "code",
   "execution_count": 4,
   "id": "61447375",
   "metadata": {},
   "outputs": [],
   "source": [
    "import math\n",
    "#bringing in some math tools \n",
    "import numpy as np\n",
    "#working with arrays of data"
   ]
  },
  {
   "cell_type": "code",
   "execution_count": 5,
   "id": "df684d64",
   "metadata": {},
   "outputs": [
    {
     "name": "stdout",
     "output_type": "stream",
     "text": [
      "Python 2.7.16\r\n"
     ]
    }
   ],
   "source": [
    "!python --version"
   ]
  },
  {
   "cell_type": "code",
   "execution_count": 6,
   "id": "5650b0a7",
   "metadata": {},
   "outputs": [],
   "source": [
    "x=56"
   ]
  },
  {
   "cell_type": "code",
   "execution_count": 8,
   "id": "d33595fe",
   "metadata": {},
   "outputs": [
    {
     "data": {
      "text/plain": [
       "7.483314773547883"
      ]
     },
     "execution_count": 8,
     "metadata": {},
     "output_type": "execute_result"
    }
   ],
   "source": [
    "math.sqrt(x)"
   ]
  },
  {
   "cell_type": "code",
   "execution_count": 9,
   "id": "4a655023",
   "metadata": {},
   "outputs": [
    {
     "data": {
      "text/plain": [
       "7.483314773547883"
      ]
     },
     "execution_count": 9,
     "metadata": {},
     "output_type": "execute_result"
    }
   ],
   "source": [
    "np.sqrt(x)"
   ]
  },
  {
   "cell_type": "markdown",
   "id": "60c22bd4",
   "metadata": {},
   "source": [
    "This is the end of my demo in jupyter"
   ]
  },
  {
   "cell_type": "code",
   "execution_count": null,
   "id": "f797598b",
   "metadata": {},
   "outputs": [],
   "source": []
  }
 ],
 "metadata": {
  "kernelspec": {
   "display_name": "Python 3",
   "language": "python",
   "name": "python3"
  },
  "language_info": {
   "codemirror_mode": {
    "name": "ipython",
    "version": 3
   },
   "file_extension": ".py",
   "mimetype": "text/x-python",
   "name": "python",
   "nbconvert_exporter": "python",
   "pygments_lexer": "ipython3",
   "version": "3.8.2"
  }
 },
 "nbformat": 4,
 "nbformat_minor": 5
}
