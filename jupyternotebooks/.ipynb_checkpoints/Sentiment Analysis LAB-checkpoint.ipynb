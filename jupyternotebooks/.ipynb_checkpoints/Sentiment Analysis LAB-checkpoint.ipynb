{
 "cells": [
  {
   "cell_type": "code",
   "execution_count": null,
   "id": "7f78a2a0",
   "metadata": {},
   "outputs": [],
   "source": [
    "# Importing libaries: pandas, seaborn, matplotlib and textblob\n",
    "\n",
    "import pandas as pd\n",
    "import seaborn as sns\n",
    "import matplotlib.pyplot as plt\n",
    "import textblob\n",
    "import numpy as np\n",
    "from textblob import TextBlob"
   ]
  },
  {
   "cell_type": "code",
   "execution_count": null,
   "id": "770e2189",
   "metadata": {},
   "outputs": [],
   "source": [
    "# import csv file into a DataFrame\n",
    "\n",
    "clothingdf=pd.read_csv('Womens Clothing E-Commerce Reviews.csv')"
   ]
  },
  {
   "cell_type": "code",
   "execution_count": null,
   "id": "703f4c86",
   "metadata": {},
   "outputs": [],
   "source": [
    "# create subset of data with only relevant columns:\n",
    "\n",
    "# 1. First i check the columns:\n",
    "\n",
    "clothingdf.head()\n",
    "\n",
    "# 2. I will remove 'Unnamed: 0', 'Clothing ID', 'Age', 'Recommended IND', 'Positive Feedback Count', 'Class Name'\n",
    "\n",
    "subsetdf = clothingdf.drop(['Unnamed: 0', 'Clothing ID', 'Age', 'Recommended IND', 'Positive Feedback Count', 'Class Name'], axis=1)\n",
    "\n",
    "subsetdf"
   ]
  },
  {
   "cell_type": "code",
   "execution_count": null,
   "id": "391ebfe6",
   "metadata": {},
   "outputs": [],
   "source": [
    "# standardising header columns:\n",
    "\n",
    "subsetdf.columns = [col.lower().replace(\" \", \"_\") for col in subsetdf.columns]\n",
    "subsetdf\n"
   ]
  },
  {
   "cell_type": "code",
   "execution_count": null,
   "id": "67085250",
   "metadata": {},
   "outputs": [],
   "source": [
    "# EDA - Exploring the shape (total rows and columns), info (dtypes and nulls) and descriptive statistics:\n",
    "\n",
    "subsetdf.shape"
   ]
  },
  {
   "cell_type": "code",
   "execution_count": null,
   "id": "886d5284",
   "metadata": {},
   "outputs": [],
   "source": [
    "subsetdf.info()"
   ]
  },
  {
   "cell_type": "code",
   "execution_count": null,
   "id": "ece094d5",
   "metadata": {},
   "outputs": [],
   "source": [
    "subsetdf.describe()"
   ]
  },
  {
   "cell_type": "code",
   "execution_count": null,
   "id": "25ad363b",
   "metadata": {},
   "outputs": [],
   "source": [
    "# Checking % of NaN values\n",
    "\n",
    "100 * subsetdf.isna().sum()/len(subsetdf)"
   ]
  },
  {
   "cell_type": "code",
   "execution_count": null,
   "id": "43479093",
   "metadata": {},
   "outputs": [],
   "source": [
    "# Plotting count of 'division_name'\n",
    "\n",
    "subsetdf['division_name'].value_counts().plot(kind='bar');"
   ]
  },
  {
   "cell_type": "code",
   "execution_count": null,
   "id": "f4556c8d",
   "metadata": {},
   "outputs": [],
   "source": [
    "# Plotting count of 'department_name'\n",
    "\n",
    "subsetdf['department_name'].value_counts().plot(kind='bar');"
   ]
  },
  {
   "cell_type": "code",
   "execution_count": null,
   "id": "e899f8fb",
   "metadata": {},
   "outputs": [],
   "source": [
    "# Exploring the reviews\n",
    "\n",
    "subsetdf['review_text']\n"
   ]
  },
  {
   "cell_type": "code",
   "execution_count": null,
   "id": "0ce87ad6",
   "metadata": {},
   "outputs": [],
   "source": [
    "# defining a function that converts NaN values to 0 or returns length.\n",
    "\n",
    "def get_len(x):\n",
    "    if x==x:\n",
    "        return len(x)\n",
    "    else:\n",
    "        return 0\n",
    "    "
   ]
  },
  {
   "cell_type": "code",
   "execution_count": null,
   "id": "2dd1d8a7",
   "metadata": {},
   "outputs": [],
   "source": [
    "# applying the function to 'review_text' column and storing it in a new column\n",
    "\n",
    "subsetdf['len_rev'] = subsetdf['review_text'].apply(lambda x: get_len(x))\n",
    "subsetdf.head()\n"
   ]
  },
  {
   "cell_type": "code",
   "execution_count": null,
   "id": "b3f8da3e",
   "metadata": {},
   "outputs": [],
   "source": [
    "# visualising the newly created column 'len_rev'\n",
    "\n",
    "fig, ax = plt.subplots(figsize=(12,10))\n",
    "sns.histplot(subsetdf['len_rev'], bins=100, ax=ax);"
   ]
  },
  {
   "cell_type": "code",
   "execution_count": null,
   "id": "fdcc12bb",
   "metadata": {},
   "outputs": [],
   "source": [
    "# Visualising again, this time by 'division_name' and removing all records with length of 0 or 500 \n",
    "\n",
    "fig, ax = plt.subplots(figsize=(12,10))\n",
    "sns.histplot(subsetdf[(subsetdf['len_rev'] < 499) & (subsetdf['len_rev'] != 0)],\n",
    "             x='len_rev',\n",
    "             bins=100,\n",
    "             ax=ax,\n",
    "             hue='division_name');"
   ]
  },
  {
   "cell_type": "code",
   "execution_count": null,
   "id": "dce3ffe7",
   "metadata": {},
   "outputs": [],
   "source": [
    "# Applying same visual as above, this time the count is done by 'department_name' \n",
    "\n",
    "fig, ax = plt.subplots(figsize=(12,10))\n",
    "sns.histplot(subsetdf[(subsetdf['len_rev'] < 499) & (subsetdf['len_rev'] != 0)],\n",
    "             x='len_rev',\n",
    "             bins=100,\n",
    "             ax=ax,\n",
    "             hue='department_name');"
   ]
  },
  {
   "cell_type": "markdown",
   "id": "cada7c9b",
   "metadata": {},
   "source": [
    "#### subset summary\n",
    "\n",
    "+ There are 2 columns in which we can perform Sentiment Analysis using Text Blob - 'title' and 'review_text'.\n",
    "+ We also have 2 categorical columns - 'department_name' and 'divsion_name' we can use for aggregated views\n",
    "+ We have one numerical column, 'rating', which goes from 1 to 5 and can be used to check our sentiment analysis scores (could help spotting sarcasm)\n",
    "+ We created a new column applying feature engineering to the review_text column that indicates which reviews are more text heavy"
   ]
  },
  {
   "cell_type": "code",
   "execution_count": null,
   "id": "7792f282",
   "metadata": {},
   "outputs": [],
   "source": [
    "# average rating by division and department using group by:\n",
    "\n",
    "avg_by_div_dept = subsetdf.groupby([\"department_name\", \"division_name\"])[\"rating\"].mean().reset_index()\n",
    "avg_by_div_dept.head(10)"
   ]
  },
  {
   "cell_type": "code",
   "execution_count": null,
   "id": "95bc59d7",
   "metadata": {},
   "outputs": [],
   "source": [
    "# Create new Dataframe with additional column of concatenated 'division_name' and 'department_name'\n",
    "\n",
    "avg_by_div_dept[\"div_dep\"] = avg_by_div_dept['division_name'] + \" \" + avg_by_div_dept['department_name']\n",
    "avg_by_div_dept"
   ]
  },
  {
   "cell_type": "code",
   "execution_count": null,
   "id": "ef05291d",
   "metadata": {},
   "outputs": [],
   "source": [
    "# Visualise average rating per division and department\n",
    "\n",
    "avg_by_div_dept.plot(kind=\"barh\", y='rating', x='div_dep');"
   ]
  },
  {
   "cell_type": "code",
   "execution_count": null,
   "id": "5745138c",
   "metadata": {},
   "outputs": [],
   "source": [
    "# sample check on the review column, index position 5 \n",
    "\n",
    "text = subsetdf.iloc[5]['review_text']"
   ]
  },
  {
   "cell_type": "code",
   "execution_count": null,
   "id": "e04d7aae",
   "metadata": {},
   "outputs": [],
   "source": [
    "# Storing text variable into new variable 'testimonial'\n",
    "\n",
    "testimonial = TextBlob(text)"
   ]
  },
  {
   "cell_type": "code",
   "execution_count": null,
   "id": "b72b0713",
   "metadata": {},
   "outputs": [],
   "source": [
    "# Running sentiment analysis on the selected record\n",
    "\n",
    "testimonial.sentiment\n",
    "\n",
    "# Polarity level seems in line with feedback from the customer"
   ]
  },
  {
   "cell_type": "code",
   "execution_count": null,
   "id": "d7a5c661",
   "metadata": {},
   "outputs": [],
   "source": [
    "# Using TextBlob to break down the review into sentences\n",
    "\n",
    "testimonial.sentences"
   ]
  },
  {
   "cell_type": "code",
   "execution_count": null,
   "id": "c3f54fe7",
   "metadata": {},
   "outputs": [],
   "source": [
    "# Checking another reviews' sentiment vs actual text:\n",
    "\n",
    "text2 = subsetdf.iloc[6]['review_text']\n",
    "testimonial2 = TextBlob(text2)\n",
    "testimonial2.sentiment"
   ]
  },
  {
   "cell_type": "code",
   "execution_count": null,
   "id": "4be1ebd2",
   "metadata": {},
   "outputs": [],
   "source": [
    "testimonial2.sentences\n",
    "\n",
    "# Polarity level seems in line with feedback from the customer"
   ]
  },
  {
   "cell_type": "code",
   "execution_count": null,
   "id": "a6cadfe2",
   "metadata": {},
   "outputs": [],
   "source": [
    "# And another sense check:\n",
    "\n",
    "text3 = subsetdf.iloc[7]['review_text']\n",
    "testimonial3 = TextBlob(text3)\n",
    "testimonial3.sentiment"
   ]
  },
  {
   "cell_type": "code",
   "execution_count": null,
   "id": "38487cf7",
   "metadata": {},
   "outputs": [],
   "source": [
    "testimonial3.sentences"
   ]
  },
  {
   "cell_type": "code",
   "execution_count": null,
   "id": "07324ca9",
   "metadata": {},
   "outputs": [],
   "source": [
    "# Polarity level indicates certain indifference towards the product, which is in line with the customers' feedback"
   ]
  },
  {
   "cell_type": "code",
   "execution_count": null,
   "id": "098853a9",
   "metadata": {},
   "outputs": [],
   "source": [
    "# Removing NaN values from 'review text' from our subset\n",
    "\n",
    "subsetdf = subsetdf.dropna(subset=['review_text'], how='any')\n",
    "\n",
    "# Check new total number of rows is indeed 22641\n",
    "\n",
    "subsetdf.info()"
   ]
  },
  {
   "cell_type": "code",
   "execution_count": null,
   "id": "9f462399",
   "metadata": {},
   "outputs": [],
   "source": [
    "# Reset index\n",
    "\n",
    "subsetdf.reset_index(drop=True)"
   ]
  },
  {
   "cell_type": "code",
   "execution_count": null,
   "id": "b9f09cfb",
   "metadata": {},
   "outputs": [],
   "source": [
    "# Calculate sentiment polarity for each row of the filtered review data set and store it in a new column\n",
    "\n",
    "# 1. First we define a function that returns polarity from sentiment analysis\n",
    "\n",
    "def get_polarity(text):\n",
    "    return TextBlob(text).sentiment.polarity\n",
    "\n",
    "# 2. Then, we create the new column applying 'get_polarity' to our 'review_text' column\n",
    "\n",
    "subsetdf['polarity'] = subsetdf['review_text'].apply(get_polarity)\n",
    "subsetdf"
   ]
  },
  {
   "cell_type": "code",
   "execution_count": null,
   "id": "5e49cd8c",
   "metadata": {},
   "outputs": [],
   "source": [
    "# Summarise the minimum review polarity, by division and department as a new dataframe\n",
    "\n",
    "df_min_pol = subsetdf.groupby(['division_name', 'department_name'])['polarity'].min().reset_index()\n",
    "df_min_pol"
   ]
  },
  {
   "cell_type": "code",
   "execution_count": null,
   "id": "f2ba68d0",
   "metadata": {},
   "outputs": [],
   "source": [
    "# Adding concatenated column of 'department_name' and 'division_name' to the dataframe for our next visualisation\n",
    "\n",
    "df_min_pol['div_dep'] = df_min_pol['division_name'] + \" \" + df_min_pol['department_name']\n",
    "df_min_pol"
   ]
  },
  {
   "cell_type": "code",
   "execution_count": null,
   "id": "8f6aee84",
   "metadata": {},
   "outputs": [],
   "source": [
    "# Visualising in an ascending order sorted barchart\n",
    "\n",
    "df_min_pol = df_min_pol.sort_values(by='polarity')\n",
    "df_min_pol.plot(kind=\"barh\", y='polarity', x='div_dep');"
   ]
  },
  {
   "cell_type": "code",
   "execution_count": null,
   "id": "63782a8d",
   "metadata": {},
   "outputs": [],
   "source": [
    "# Average review polarity, by division and department\n",
    "\n",
    "df_mean_pol = subsetdf.groupby(['division_name', 'department_name'])['polarity'].mean().reset_index()"
   ]
  },
  {
   "cell_type": "code",
   "execution_count": null,
   "id": "325d5e67",
   "metadata": {},
   "outputs": [],
   "source": [
    "# Adding concatenated column of 'department_name' and 'division_name'\n",
    "\n",
    "df_mean_pol = df_mean_pol.sort_values(by='polarity')\n",
    "df_mean_pol['div_dep'] = df_mean_pol['division_name'] + \" \" + df_mean_pol['department_name']"
   ]
  },
  {
   "cell_type": "code",
   "execution_count": null,
   "id": "bc50d35e",
   "metadata": {},
   "outputs": [],
   "source": [
    "# Visualising in an descending order sorted barchart\n",
    "\n",
    "df_mean_pol.plot(kind='barh', y='polarity', x='div_dep');"
   ]
  }
 ],
 "metadata": {
  "kernelspec": {
   "display_name": "Python 3",
   "language": "python",
   "name": "python3"
  },
  "language_info": {
   "codemirror_mode": {
    "name": "ipython",
    "version": 3
   },
   "file_extension": ".py",
   "mimetype": "text/x-python",
   "name": "python",
   "nbconvert_exporter": "python",
   "pygments_lexer": "ipython3",
   "version": "3.9.5"
  }
 },
 "nbformat": 4,
 "nbformat_minor": 5
}
